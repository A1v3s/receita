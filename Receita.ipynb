{
 "cells": [
  {
   "cell_type": "markdown",
   "metadata": {},
   "source": [
    "# Coleta de Dados e adicionar no MySQL\n",
    "Os arquivos estão disponiveis para downloads no site da receita federal, mas não possuem delimitadores internos, existe um arquivo com o layout para auxiliar.\n",
    "Outro trabalho será baixar os 20 arquivos fazer a leitura individual, linha por linha, separando informações que são de nosso interesse ."
   ]
  },
  {
   "cell_type": "markdown",
   "metadata": {},
   "source": [
    "### layout da tabela receita no mySQL\n",
    "\n",
    "##### Este layout foi desenvolvido no mysql, coloquei aqui para facilitar na conversão do tipo durante a programação\n",
    "\n",
    " `id` int NOT NULL AUTO_INCREMENT,\n",
    "\n",
    "`cnpj` varchar(14) DEFAULT NULL,\n",
    "\n",
    "`identificador` int DEFAULT NULL,\n",
    "\n",
    "`razao_social` varchar(150) DEFAULT NULL,\n",
    "\n",
    "`fantasia` varchar(55) DEFAULT NULL,\n",
    "\n",
    "`situacao_cadastral` int DEFAULT NULL,\n",
    "\n",
    "`data_situacao` datetime DEFAULT NULL,\n",
    "\n",
    "`motivo_situacao` int DEFAULT NULL,\n",
    "\n",
    "`cidade_exterior` varchar(55) DEFAULT NULL,\n",
    "\n",
    "`codigo_pais` varchar(3) DEFAULT NULL,\n",
    "\n",
    "`nome_pais` varchar(70) DEFAULT NULL,\n",
    "\n",
    "`natureza_juridica` int DEFAULT NULL,\n",
    "\n",
    "`data_inicio_atividade` datetime DEFAULT NULL,\n",
    "\n",
    "`cnea_fiscal` int DEFAULT NULL,\n",
    "\n",
    "`tipo_logradouro` varchar(20) DEFAULT NULL,\n",
    "\n",
    "`logradouro` varchar(60) DEFAULT NULL,\n",
    "\n",
    "`numero` varchar(6) DEFAULT NULL,\n",
    "\n",
    "`complemento` varchar(156) DEFAULT NULL,\n",
    "\n",
    "`bairro` varchar(50) DEFAULT NULL,\n",
    "\n",
    "`cep` int DEFAULT NULL,\n",
    "\n",
    "`uf` varchar(2) DEFAULT NULL,\n",
    "\n",
    "`codigo_municipio` int DEFAULT NULL,\n",
    "\n",
    "`municipio` varchar(50) DEFAULT NULL,\n",
    "\n",
    "`telefone1` varchar(12) DEFAULT NULL,\n",
    "\n",
    "`telefone2` varchar(12) DEFAULT NULL,\n",
    "\n",
    "`telefone3` varchar(12) DEFAULT NULL,\n",
    "\n",
    "`email` varchar(115) DEFAULT NULL,\n",
    "\n",
    "`qualif_responsavel` int DEFAULT NULL,\n",
    "\n",
    "`capital_social` float DEFAULT NULL,\n",
    "\n",
    "`porte_empresa` varchar(2) DEFAULT NULL,\n",
    "\n",
    "`opcao_simples` varchar(1) DEFAULT NULL,\n",
    "\n",
    "`data_opcao_simples` datetime DEFAULT NULL,\n",
    "\n",
    "`data_exclusao_simples` datetime DEFAULT NULL,\n",
    "\n",
    "`opcao_mei` varchar(1) DEFAULT NULL,\n",
    "\n",
    "`situacao_especial` varchar(23) DEFAULT NULL,\n",
    "\n",
    "`data_situacao_especial` datetime DEFAULT NULL\n",
    " "
   ]
  },
  {
   "cell_type": "markdown",
   "metadata": {},
   "source": [
    "## Conectar ao MySQL "
   ]
  },
  {
   "cell_type": "code",
   "execution_count": 1,
   "metadata": {},
   "outputs": [],
   "source": [
    "#Importando conector MySQL\n",
    "\n",
    "import mysql.connector"
   ]
  },
  {
   "cell_type": "markdown",
   "metadata": {},
   "source": []
  },
  {
   "cell_type": "code",
   "execution_count": 2,
   "metadata": {},
   "outputs": [
    {
     "name": "stdout",
     "output_type": "stream",
     "text": [
      "<mysql.connector.connection_cext.CMySQLConnection object at 0x000001BBC8AA50D0>\n"
     ]
    }
   ],
   "source": [
    "#Conectar ao MySQL Server sem selecionar um banco de dados\n",
    "\n",
    "mydb = mysql.connector.connect(\n",
    "    host='localhost',\n",
    "    user='root',\n",
    "    password='igti'\n",
    ")\n",
    "\n",
    "print(mydb)\n",
    "\n",
    "mycursor = mydb.cursor()"
   ]
  },
  {
   "cell_type": "markdown",
   "metadata": {},
   "source": []
  },
  {
   "cell_type": "code",
   "execution_count": 3,
   "metadata": {},
   "outputs": [
    {
     "name": "stdout",
     "output_type": "stream",
     "text": [
      "('bootcamp',)\n",
      "('db_pokemon',)\n",
      "('db_receita',)\n",
      "('information_schema',)\n",
      "('mysql',)\n",
      "('performance_schema',)\n",
      "('sakila',)\n",
      "('sys',)\n",
      "('world',)\n"
     ]
    }
   ],
   "source": [
    "#Retorna todos os esquemas criados no seu servidor de Banco de Dados\n",
    "\n",
    "mycursor.execute(\"SHOW DATABASES\") \n",
    "\n",
    "for db in mycursor:\n",
    "    print(db)\n"
   ]
  },
  {
   "cell_type": "markdown",
   "metadata": {},
   "source": []
  },
  {
   "cell_type": "code",
   "execution_count": 2,
   "metadata": {},
   "outputs": [
    {
     "name": "stdout",
     "output_type": "stream",
     "text": [
      "<mysql.connector.connection_cext.CMySQLConnection object at 0x000001DEFFFCA160>\n"
     ]
    }
   ],
   "source": [
    "#Login ao banco de dados\n",
    "\n",
    "mydb = mysql.connector.connect(\n",
    "    host='localhost',\n",
    "    user='root',\n",
    "    password='igti',\n",
    "    database='db_receita'\n",
    ")\n",
    "\n",
    "print(mydb)\n",
    "\n",
    "mycursor = mydb.cursor()"
   ]
  },
  {
   "cell_type": "markdown",
   "metadata": {},
   "source": [
    "# "
   ]
  },
  {
   "cell_type": "code",
   "execution_count": 3,
   "metadata": {},
   "outputs": [
    {
     "name": "stdout",
     "output_type": "stream",
     "text": [
      "('tb_estados',)\n",
      "('tb_municipios',)\n",
      "('tb_receita',)\n"
     ]
    }
   ],
   "source": [
    "#Retorna todas as tabelas criados no seu esquema de Banco de Dados \n",
    "\n",
    "mycursor.execute(\"SHOW TABLES\")\n",
    "\n",
    "for db in mycursor:\n",
    "    print(db)"
   ]
  },
  {
   "cell_type": "markdown",
   "metadata": {},
   "source": []
  },
  {
   "cell_type": "code",
   "execution_count": 3,
   "metadata": {},
   "outputs": [
    {
     "name": "stdout",
     "output_type": "stream",
     "text": [
      "('E:/data/DADOS_ABERTOS/receita/CNPJ_03.csv', 'E:/data/DADOS_ABERTOS/receita/CNPJ_04.CSV', 'E:/data/DADOS_ABERTOS/receita/CNPJ_05.CSV')\n"
     ]
    }
   ],
   "source": [
    "import os\n",
    "\n",
    "from tkinter  import filedialog\n",
    "\n",
    "filenames = filedialog.askopenfilenames()\n",
    "print(filenames)\n",
    "#filedialog.askopenfilenames.cancel_command()"
   ]
  },
  {
   "cell_type": "code",
   "execution_count": null,
   "metadata": {
    "scrolled": false
   },
   "outputs": [
    {
     "name": "stdout",
     "output_type": "stream",
     "text": [
      "E:/data/DADOS_ABERTOS/receita/CNPJ_03.csv  /  Seleção: 0\n"
     ]
    }
   ],
   "source": [
    "from datetime import date\n",
    "\n",
    "# Abrir arquivos Texto\n",
    "tamanho = len(filenames)\n",
    "conta = 0\n",
    "selecao = 0\n",
    "\n",
    "while(conta < tamanho):\n",
    "\n",
    "#    print('Número do arquivo: '+str(conta))    \n",
    "    arquivo = open(filenames[conta], 'r')\n",
    "    #print(arquivo.name)\n",
    "    print(arquivo.name + '  /  '+  \"Seleção: \" + str(selecao))\n",
    "\n",
    "    for linha in arquivo:\n",
    "        entrada = linha[0:2]\n",
    "        \n",
    "        lnh = linha[-600:]\n",
    "        quintaparte =  lnh[0:173]\n",
    "        codigo_municipio = quintaparte[83:87]\n",
    "        \n",
    "        if entrada == '1F' and codigo_municipio == '3505708':\n",
    "\n",
    "            selecao += 1\n",
    "\n",
    "            primeiraparte = linha[0:150]\n",
    "        \n",
    "            lnh = linha[-1050:]\n",
    "            segundaparte =  lnh[0:150]\n",
    "        \n",
    "            lnh = linha[-900:]\n",
    "            terceiraparte = lnh[0:150]\n",
    "        \n",
    "            lnh = linha[-750:]\n",
    "            quartaparte =  lnh[0:150]\n",
    "        \n",
    "            lnh = linha[-600:]\n",
    "            quintaparte =  lnh[0:173]\n",
    "        \n",
    "            lnh = linha[-450:]\n",
    "            sextaparte =  lnh[22:175]\n",
    "        \n",
    "            lnh = linha[-300:]\n",
    "            setimaparte =  lnh[0:150]\n",
    "        \n",
    "            cnpj = primeiraparte[3:18]\n",
    "            razao_Social = primeiraparte[18:155]\n",
    "            fantasia = segundaparte[17:72]\n",
    "            situacao_Cadastral = segundaparte[72:74]\n",
    "            data_Situacao = segundaparte[74:82]\n",
    "#--------->                                   \n",
    "            motivo_Situacao = segundaparte[82:86]\n",
    "            CNAE = terceiraparte[74:81]\n",
    "            data_inicio = terceiraparte[66:74]\n",
    "#--------->            \n",
    "            natureza_juridica = int(terceiraparte[62:66])\n",
    "            logadouro = (terceiraparte[81:150] + ',' + quartaparte[11:14])\n",
    "            codigo_municipio = quintaparte[83:87]\n",
    "            bairro = quintaparte[23:73]\n",
    "            CEP = quintaparte[73:81]\n",
    "            UF = quintaparte[81:83]\n",
    "            municipio = quintaparte[87:137]\n",
    "            telefone1 = quintaparte[137:149]\n",
    "            telefone2 = quintaparte[149:161]\n",
    "            telefone3 = quintaparte[161:173]\n",
    "            email = sextaparte[1:116]\n",
    "            responsavel = sextaparte[116:118]\n",
    "            capital_social = float(sextaparte[118:132])\n",
    "            porte_emp = sextaparte[132:134]\n",
    "            opcao_Simples = sextaparte[134:135]\n",
    "#--------->\n",
    "            data_opcao_Simples = sextaparte[135:143]\n",
    "#--------->            \n",
    "            data_exclusao = sextaparte[143:151]\n",
    "            excAno = data_exclusao[0:4]\n",
    "            excMes = data_exclusao[4:6]\n",
    "            excDia = data_exclusao[6:8]\n",
    "            dataexclusao = (excAno+'-'+excMes+'-'+excDia)\n",
    "            if excAno != '0000' and excMes != '00' and excDia != '00':\n",
    "                dataexclusao = date.fromisoformat((excAno+'-'+excMes+'-'+excDia))\n",
    "            else:\n",
    "                excAno = '0000'\n",
    "                excMes = '00'\n",
    "                excDia = '00'\n",
    "           \n",
    "            opcao_MEI = sextaparte[151:152]\n",
    "#---------> inserindo dados na tabela\n",
    "            mycursor.execute (\"INSERT INTO tb_receita (cnpj, razao_social, fantasia, situacao_cadastral, data_situacao, motivo_situacao, natureza_juridica, data_inicio_atividade, cnea_fiscal, logradouro, bairro, cep, uf, codigo_municipio, municipio, telefone1, telefone2, telefone3, email, qualif_responsavel, capital_social, porte_empresa, opcao_simples, data_opcao_simples, data_exclusao_simples, opcao_mei) VALUES (%s, %s, %s,%s, %s, %s,%s, %s, %s,%s, %s, %s,%s, %s, %s, %s, %s,%s, %s, %s,%s, %s, %s,%s, %s, %s);\", (cnpj, razao_Social, fantasia, situacao_Cadastral, data_Situacao, motivo_Situacao, natureza_juridica, data_inicio , CNAE, logadouro, bairro, CEP, UF, codigo_municipio, municipio, telefone1, telefone2, telefone3, email, responsavel, capital_social, porte_emp, opcao_Simples, data_opcao_Simples, dataexclusao, opcao_MEI))\n",
    "\n",
    "# --------> Fazer a confirmação da inserção\n",
    "            mydb.commit()\n",
    "        \n",
    "    conta += 1\n",
    "    arquivo.close()\n",
    "        "
   ]
  },
  {
   "cell_type": "code",
   "execution_count": 9,
   "metadata": {},
   "outputs": [],
   "source": [
    "#mycursor.execute (\"DELETE  FROM db_receita.tb_receita\")\n",
    "#mydb.commit()"
   ]
  }
 ],
 "metadata": {
  "kernelspec": {
   "display_name": "Python 3",
   "language": "python",
   "name": "python3"
  },
  "language_info": {
   "codemirror_mode": {
    "name": "ipython",
    "version": 3
   },
   "file_extension": ".py",
   "mimetype": "text/x-python",
   "name": "python",
   "nbconvert_exporter": "python",
   "pygments_lexer": "ipython3",
   "version": "3.8.5"
  }
 },
 "nbformat": 4,
 "nbformat_minor": 4
}
